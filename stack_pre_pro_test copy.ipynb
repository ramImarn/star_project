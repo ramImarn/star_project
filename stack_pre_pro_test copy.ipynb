{
 "cells": [
  {
   "cell_type": "code",
   "execution_count": 1,
   "id": "2d3c3cfa",
   "metadata": {},
   "outputs": [],
   "source": [
    "import os\n",
    "import glob\n",
    "import numpy as np\n",
    "from tensorflow.keras.models import Sequential\n",
    "from tensorflow.keras.layers import LSTM, LeakyReLU\n",
    "from tensorflow.keras.layers import Dense, Dropout\n",
    "from sklearn.model_selection import train_test_split\n",
    "from keras.preprocessing.sequence import TimeseriesGenerator\n",
    "import tensorflow as tf\n",
    "import pandas as pd\n",
    "from matplotlib import pyplot as plt\n",
    "from sklearn.preprocessing import StandardScaler, MinMaxScaler"
   ]
  },
  {
   "cell_type": "code",
   "execution_count": 2,
   "id": "e0644d21",
   "metadata": {},
   "outputs": [
    {
     "name": "stderr",
     "output_type": "stream",
     "text": [
      "C:\\Users\\jaisri\\AppData\\Local\\Temp\\ipykernel_19684\\482311388.py:2: FutureWarning: The default value of numeric_only in DataFrame.corrwith is deprecated. In a future version, it will default to False. Select only valid columns or specify the value of numeric_only to silence this warning.\n",
      "  file.corrwith(file['TS4_Target'])\n"
     ]
    },
    {
     "data": {
      "text/plain": [
       "Price_open     0.999963\n",
       "Price_high     0.999277\n",
       "Price_low      0.999099\n",
       "Price_close    0.998915\n",
       "FIB_1_MA       0.977136\n",
       "                 ...   \n",
       "CM_Stoch_K1    0.014030\n",
       "CM_Stoch_D1    0.019818\n",
       "CM_Stoch_K2    0.038751\n",
       "CM_Stoch_D2    0.046708\n",
       "Hull_Hist      0.098185\n",
       "Length: 78, dtype: float64"
      ]
     },
     "execution_count": 2,
     "metadata": {},
     "output_type": "execute_result"
    }
   ],
   "source": [
    "file=pd.read_csv('F:\\\\Exprement\\\\saturn\\\\time_series\\\\star_pro\\\\training_file.csv')\n",
    "file.corrwith(file['TS4_Target'])"
   ]
  },
  {
   "cell_type": "code",
   "execution_count": 3,
   "id": "16bd02d0",
   "metadata": {},
   "outputs": [],
   "source": [
    "files='F:\\\\Exprement\\\\saturn\\\\time_series\\\\star_pro\\\\'\n",
    "scaler = StandardScaler()\n",
    "\n",
    "for a in os.listdir(files):\n",
    "    name, ext = os.path.splitext(a)\n",
    "    if ext == \".csv\":\n",
    "        file=pd.read_csv(os.path.join(files,a))\n",
    "        file=file.drop(['RSI_Spot','MFI_MA','BBWP_MA','PMAR_MA'],axis=1)\n",
    "        file=file.replace({' -   ': '0', '_': '0', '-': '0', ',': ''}, regex=True)\n",
    "        file=file.iloc[:,1:43]\n",
    "        if name == \"training_file\":\n",
    "            trainX = scaler.fit_transform(file)\n",
    "            trainY = trainX [:,33:34]\n",
    "        elif name == \"validation_file\":\n",
    "            val_file = file.iloc[:,1:]\n",
    "            valX = scaler.fit_transform(file)\n",
    "            valY = valX [:,33:34]\n",
    "        elif name == \"testing_file\":\n",
    "            test_file = file.iloc[:,1:]\n",
    "            testX = scaler.fit_transform(file)\n",
    "            testY = testX [:,33:34]"
   ]
  },
  {
   "cell_type": "code",
   "execution_count": 51,
   "id": "b4697cb4",
   "metadata": {},
   "outputs": [
    {
     "data": {
      "text/plain": [
       "((83, 90), (39, 90))"
      ]
     },
     "execution_count": 51,
     "metadata": {},
     "output_type": "execute_result"
    }
   ],
   "source": [
    "valX.shape,testX.shape"
   ]
  },
  {
   "cell_type": "code",
   "execution_count": 13,
   "id": "2d5c677d",
   "metadata": {},
   "outputs": [
    {
     "data": {
      "text/plain": [
       "(array([[[-0.71517283, -0.71548899, -0.71594813, ..., -0.05388786,\n",
       "          -0.03747162,  0.84656742],\n",
       "         [-0.71518977, -0.71584857, -0.7161427 , ..., -0.0572988 ,\n",
       "          -0.04186789,  0.79977668],\n",
       "         [-0.71526654, -0.71592429, -0.71612256, ..., -0.0552688 ,\n",
       "          -0.04470642,  0.74789826],\n",
       "         ...,\n",
       "         [-0.71718294, -0.71731849, -0.71779983, ..., -0.04368318,\n",
       "          -0.04768855, -0.93127509],\n",
       "         [-0.71708103, -0.71698414, -0.71760976, ..., -0.04006372,\n",
       "          -0.04253769, -0.85462832],\n",
       "         [-0.71679917, -0.71691474, -0.71731902, ..., -0.0369855 ,\n",
       "          -0.03799679, -0.77837858]],\n",
       " \n",
       "        [[-0.71518977, -0.71584857, -0.7161427 , ..., -0.0572988 ,\n",
       "          -0.04186789,  0.79977668],\n",
       "         [-0.71526654, -0.71592429, -0.71612256, ..., -0.0552688 ,\n",
       "          -0.04470642,  0.74789826],\n",
       "         [-0.71533663, -0.7158612 , -0.71610244, ..., -0.04877862,\n",
       "          -0.04553624,  0.71204642],\n",
       "         ...,\n",
       "         [-0.71708103, -0.71698414, -0.71760976, ..., -0.04006372,\n",
       "          -0.04253769, -0.85462832],\n",
       "         [-0.71679917, -0.71691474, -0.71731902, ..., -0.0369855 ,\n",
       "          -0.03799679, -0.77837858],\n",
       "         [-0.71660947, -0.71708507, -0.71745768, ..., -0.03807154,\n",
       "          -0.03746342, -0.74022796]],\n",
       " \n",
       "        [[-0.71526654, -0.71592429, -0.71612256, ..., -0.0552688 ,\n",
       "          -0.04470642,  0.74789826],\n",
       "         [-0.71533663, -0.7158612 , -0.71610244, ..., -0.04877862,\n",
       "          -0.04553624,  0.71204642],\n",
       "         [-0.71534891, -0.71595584, -0.71630372, ..., -0.04258743,\n",
       "          -0.0464717 ,  0.63882193],\n",
       "         ...,\n",
       "         [-0.71679917, -0.71691474, -0.71731902, ..., -0.0369855 ,\n",
       "          -0.03799679, -0.77837858],\n",
       "         [-0.71660947, -0.71708507, -0.71745768, ..., -0.03807154,\n",
       "          -0.03746342, -0.74022796],\n",
       "         [-0.7166073 , -0.71654883, -0.71712111, ..., -0.03966202,\n",
       "          -0.03691978, -0.66322608]],\n",
       " \n",
       "        [[-0.71533663, -0.7158612 , -0.71610244, ..., -0.04877862,\n",
       "          -0.04553624,  0.71204642],\n",
       "         [-0.71534891, -0.71595584, -0.71630372, ..., -0.04258743,\n",
       "          -0.0464717 ,  0.63882193],\n",
       "         [-0.71545018, -0.71613835, -0.71707527, ..., -0.04045623,\n",
       "          -0.04947811,  0.48753791],\n",
       "         ...,\n",
       "         [-0.71660947, -0.71708507, -0.71745768, ..., -0.03807154,\n",
       "          -0.03746342, -0.74022796],\n",
       "         [-0.7166073 , -0.71654883, -0.71712111, ..., -0.03966202,\n",
       "          -0.03691978, -0.66322608],\n",
       "         [-0.71645093, -0.71643529, -0.71695981, ..., -0.04054516,\n",
       "          -0.0362004 , -0.57752929]],\n",
       " \n",
       "        [[-0.71534891, -0.71595584, -0.71630372, ..., -0.04258743,\n",
       "          -0.0464717 ,  0.63882193],\n",
       "         [-0.71545018, -0.71613835, -0.71707527, ..., -0.04045623,\n",
       "          -0.04947811,  0.48753791],\n",
       "         [-0.71572033, -0.71410108, -0.7162062 , ..., -0.02407619,\n",
       "          -0.04090063,  0.57301916],\n",
       "         ...,\n",
       "         [-0.7166073 , -0.71654883, -0.71712111, ..., -0.03966202,\n",
       "          -0.03691978, -0.66322608],\n",
       "         [-0.71645093, -0.71643529, -0.71695981, ..., -0.04054516,\n",
       "          -0.0362004 , -0.57752929],\n",
       "         [-0.71629388, -0.71668132, -0.71775959, ..., -0.0438135 ,\n",
       "          -0.03931451, -0.57093859]]]),\n",
       " array([[-0.71688105],\n",
       "        [-0.716764  ],\n",
       "        [-0.71662862],\n",
       "        [-0.71659895],\n",
       "        [-0.71677795]]))"
      ]
     },
     "execution_count": 13,
     "metadata": {},
     "output_type": "execute_result"
    }
   ],
   "source": [
    "win_length=30\n",
    "batch_size=5\n",
    "\n",
    "train_generator=TimeseriesGenerator(trainX,trainY,length=win_length,sampling_rate=1,batch_size=batch_size)\n",
    "val_generator=TimeseriesGenerator(valX,valY,length=win_length,sampling_rate=1,batch_size=batch_size)\n",
    "test_generator=TimeseriesGenerator(testX,testY,length=win_length,sampling_rate=1,batch_size=batch_size)\n",
    "\n",
    "train_generator[0]"
   ]
  },
  {
   "cell_type": "code",
   "execution_count": 15,
   "id": "5836281b",
   "metadata": {},
   "outputs": [
    {
     "name": "stdout",
     "output_type": "stream",
     "text": [
      "Model: \"sequential_1\"\n",
      "_________________________________________________________________\n",
      " Layer (type)                Output Shape              Param #   \n",
      "=================================================================\n",
      " lstm_2 (LSTM)               (None, 30, 64)            27392     \n",
      "                                                                 \n",
      " leaky_re_lu_2 (LeakyReLU)   (None, 30, 64)            0         \n",
      "                                                                 \n",
      " lstm_3 (LSTM)               (None, 32)                12416     \n",
      "                                                                 \n",
      " leaky_re_lu_3 (LeakyReLU)   (None, 32)                0         \n",
      "                                                                 \n",
      " dropout_1 (Dropout)         (None, 32)                0         \n",
      "                                                                 \n",
      " dense_1 (Dense)             (None, 1)                 33        \n",
      "                                                                 \n",
      "=================================================================\n",
      "Total params: 39,841\n",
      "Trainable params: 39,841\n",
      "Non-trainable params: 0\n",
      "_________________________________________________________________\n"
     ]
    }
   ],
   "source": [
    "model = Sequential()\n",
    "model.add(LSTM(64, activation='relu', input_shape=(win_length, trainX.shape[1]), return_sequences=True))\n",
    "model.add(LeakyReLU(alpha=0.5))\n",
    "model.add(LSTM(32, activation='relu', return_sequences=False))\n",
    "model.add(LeakyReLU(alpha=0.5))\n",
    "model.add(Dropout(0.2))\n",
    "model.add(Dense(1))\n",
    "\n",
    "model.compile(optimizer='adam', loss='mse')\n",
    "model.summary()"
   ]
  },
  {
   "cell_type": "code",
   "execution_count": 16,
   "id": "1be9ab05",
   "metadata": {},
   "outputs": [],
   "source": [
    "model.compile(loss=tf.losses.MeanAbsoluteError(),optimizer=tf.optimizers.Adam(1e-4),metrics=[tf.metrics.MeanAbsoluteError()])"
   ]
  },
  {
   "cell_type": "code",
   "execution_count": 17,
   "id": "6db00495",
   "metadata": {},
   "outputs": [
    {
     "name": "stdout",
     "output_type": "stream",
     "text": [
      "Epoch 1/50\n",
      "571/571 [==============================] - 15s 21ms/step - loss: 0.2481 - mean_absolute_error: 0.2481 - val_loss: 0.8821 - val_mean_absolute_error: 0.8821\n",
      "Epoch 2/50\n",
      "571/571 [==============================] - 12s 21ms/step - loss: 0.1438 - mean_absolute_error: 0.1438 - val_loss: 0.8258 - val_mean_absolute_error: 0.8258\n",
      "Epoch 3/50\n",
      "571/571 [==============================] - 12s 21ms/step - loss: 0.1332 - mean_absolute_error: 0.1332 - val_loss: 0.8322 - val_mean_absolute_error: 0.8322\n",
      "Epoch 4/50\n",
      "571/571 [==============================] - 10s 18ms/step - loss: 0.1200 - mean_absolute_error: 0.1200 - val_loss: 0.8389 - val_mean_absolute_error: 0.8389\n",
      "Epoch 5/50\n",
      "571/571 [==============================] - 10s 18ms/step - loss: 0.1166 - mean_absolute_error: 0.1166 - val_loss: 0.8372 - val_mean_absolute_error: 0.8372\n",
      "Epoch 6/50\n",
      "571/571 [==============================] - 10s 18ms/step - loss: 0.1165 - mean_absolute_error: 0.1165 - val_loss: 0.7936 - val_mean_absolute_error: 0.7936\n",
      "Epoch 7/50\n",
      "571/571 [==============================] - 10s 18ms/step - loss: 0.1132 - mean_absolute_error: 0.1132 - val_loss: 0.8326 - val_mean_absolute_error: 0.8326\n",
      "Epoch 8/50\n",
      "571/571 [==============================] - 10s 18ms/step - loss: 0.1107 - mean_absolute_error: 0.1107 - val_loss: 0.8074 - val_mean_absolute_error: 0.8074\n",
      "Epoch 9/50\n",
      "571/571 [==============================] - 10s 18ms/step - loss: 0.1083 - mean_absolute_error: 0.1083 - val_loss: 0.7634 - val_mean_absolute_error: 0.7634\n",
      "Epoch 10/50\n",
      "571/571 [==============================] - 10s 18ms/step - loss: 0.1079 - mean_absolute_error: 0.1079 - val_loss: 0.8636 - val_mean_absolute_error: 0.8636\n",
      "Epoch 11/50\n",
      "571/571 [==============================] - 10s 18ms/step - loss: 0.1061 - mean_absolute_error: 0.1061 - val_loss: 0.7300 - val_mean_absolute_error: 0.7300\n",
      "Epoch 12/50\n",
      "571/571 [==============================] - 10s 18ms/step - loss: 0.1015 - mean_absolute_error: 0.1015 - val_loss: 0.7898 - val_mean_absolute_error: 0.7898\n",
      "Epoch 13/50\n",
      "571/571 [==============================] - 10s 18ms/step - loss: 0.1045 - mean_absolute_error: 0.1045 - val_loss: 0.7796 - val_mean_absolute_error: 0.7796\n",
      "Epoch 14/50\n",
      "571/571 [==============================] - 10s 18ms/step - loss: 0.0951 - mean_absolute_error: 0.0951 - val_loss: 0.7263 - val_mean_absolute_error: 0.7263\n",
      "Epoch 15/50\n",
      "571/571 [==============================] - 11s 18ms/step - loss: 0.0992 - mean_absolute_error: 0.0992 - val_loss: 0.7616 - val_mean_absolute_error: 0.7616\n",
      "Epoch 16/50\n",
      "571/571 [==============================] - 11s 19ms/step - loss: 0.1014 - mean_absolute_error: 0.1014 - val_loss: 0.7398 - val_mean_absolute_error: 0.7398\n",
      "Epoch 17/50\n",
      "571/571 [==============================] - 11s 18ms/step - loss: 0.0951 - mean_absolute_error: 0.0951 - val_loss: 0.7530 - val_mean_absolute_error: 0.7530\n",
      "Epoch 18/50\n",
      "571/571 [==============================] - 11s 20ms/step - loss: 0.0941 - mean_absolute_error: 0.0941 - val_loss: 0.7197 - val_mean_absolute_error: 0.7197\n",
      "Epoch 19/50\n",
      "571/571 [==============================] - 11s 19ms/step - loss: 0.0970 - mean_absolute_error: 0.0970 - val_loss: 0.7021 - val_mean_absolute_error: 0.7021\n",
      "Epoch 20/50\n",
      "571/571 [==============================] - 11s 20ms/step - loss: 0.0945 - mean_absolute_error: 0.0945 - val_loss: 0.7303 - val_mean_absolute_error: 0.7303\n",
      "Epoch 21/50\n",
      "571/571 [==============================] - 11s 19ms/step - loss: 0.0974 - mean_absolute_error: 0.0974 - val_loss: 0.7043 - val_mean_absolute_error: 0.7043\n",
      "Epoch 22/50\n",
      "571/571 [==============================] - 11s 19ms/step - loss: 0.0956 - mean_absolute_error: 0.0956 - val_loss: 0.6863 - val_mean_absolute_error: 0.6863\n",
      "Epoch 23/50\n",
      "571/571 [==============================] - 11s 19ms/step - loss: 0.0911 - mean_absolute_error: 0.0911 - val_loss: 0.6707 - val_mean_absolute_error: 0.6707\n",
      "Epoch 24/50\n",
      "571/571 [==============================] - 11s 19ms/step - loss: 0.0914 - mean_absolute_error: 0.0914 - val_loss: 0.7322 - val_mean_absolute_error: 0.7322\n",
      "Epoch 25/50\n",
      "571/571 [==============================] - 11s 19ms/step - loss: 0.0931 - mean_absolute_error: 0.0931 - val_loss: 0.7000 - val_mean_absolute_error: 0.7000\n",
      "Epoch 26/50\n",
      "571/571 [==============================] - 11s 19ms/step - loss: 0.0920 - mean_absolute_error: 0.0920 - val_loss: 0.6884 - val_mean_absolute_error: 0.6884\n",
      "Epoch 27/50\n",
      "571/571 [==============================] - 11s 19ms/step - loss: 0.0907 - mean_absolute_error: 0.0907 - val_loss: 0.6788 - val_mean_absolute_error: 0.6788\n",
      "Epoch 28/50\n",
      "571/571 [==============================] - 11s 19ms/step - loss: 0.0871 - mean_absolute_error: 0.0871 - val_loss: 0.6740 - val_mean_absolute_error: 0.6740\n",
      "Epoch 29/50\n",
      "571/571 [==============================] - 11s 19ms/step - loss: 0.0936 - mean_absolute_error: 0.0936 - val_loss: 0.7066 - val_mean_absolute_error: 0.7066\n",
      "Epoch 30/50\n",
      "571/571 [==============================] - 11s 19ms/step - loss: 0.0878 - mean_absolute_error: 0.0878 - val_loss: 0.6673 - val_mean_absolute_error: 0.6673\n",
      "Epoch 31/50\n",
      "571/571 [==============================] - 11s 19ms/step - loss: 0.0933 - mean_absolute_error: 0.0933 - val_loss: 0.6407 - val_mean_absolute_error: 0.6407\n",
      "Epoch 32/50\n",
      "571/571 [==============================] - 11s 19ms/step - loss: 0.0862 - mean_absolute_error: 0.0862 - val_loss: 0.6608 - val_mean_absolute_error: 0.6608\n",
      "Epoch 33/50\n",
      "571/571 [==============================] - 11s 19ms/step - loss: 0.0879 - mean_absolute_error: 0.0879 - val_loss: 0.6586 - val_mean_absolute_error: 0.6586\n",
      "Epoch 34/50\n",
      "571/571 [==============================] - 11s 19ms/step - loss: 0.0892 - mean_absolute_error: 0.0892 - val_loss: 0.6939 - val_mean_absolute_error: 0.6939\n",
      "Epoch 35/50\n",
      "571/571 [==============================] - 11s 19ms/step - loss: 0.0866 - mean_absolute_error: 0.0866 - val_loss: 0.6864 - val_mean_absolute_error: 0.6864\n",
      "Epoch 36/50\n",
      "571/571 [==============================] - 11s 19ms/step - loss: 0.0887 - mean_absolute_error: 0.0887 - val_loss: 0.6939 - val_mean_absolute_error: 0.6939\n",
      "Epoch 37/50\n",
      "571/571 [==============================] - 11s 19ms/step - loss: 0.0856 - mean_absolute_error: 0.0856 - val_loss: 0.6915 - val_mean_absolute_error: 0.6915\n",
      "Epoch 38/50\n",
      "571/571 [==============================] - 11s 19ms/step - loss: 0.0833 - mean_absolute_error: 0.0833 - val_loss: 0.6951 - val_mean_absolute_error: 0.6951\n",
      "Epoch 39/50\n",
      "571/571 [==============================] - 11s 19ms/step - loss: 0.0839 - mean_absolute_error: 0.0839 - val_loss: 0.6880 - val_mean_absolute_error: 0.6880\n",
      "Epoch 40/50\n",
      "571/571 [==============================] - 11s 19ms/step - loss: 0.0820 - mean_absolute_error: 0.0820 - val_loss: 0.6854 - val_mean_absolute_error: 0.6854\n",
      "Epoch 41/50\n",
      "571/571 [==============================] - 11s 19ms/step - loss: 0.0836 - mean_absolute_error: 0.0836 - val_loss: 0.6958 - val_mean_absolute_error: 0.6958\n",
      "Epoch 42/50\n",
      "571/571 [==============================] - 11s 19ms/step - loss: 0.0832 - mean_absolute_error: 0.0832 - val_loss: 0.7053 - val_mean_absolute_error: 0.7053\n",
      "Epoch 43/50\n",
      "571/571 [==============================] - 11s 19ms/step - loss: 0.0813 - mean_absolute_error: 0.0813 - val_loss: 0.6833 - val_mean_absolute_error: 0.6833\n",
      "Epoch 44/50\n",
      "571/571 [==============================] - 11s 20ms/step - loss: 0.0877 - mean_absolute_error: 0.0877 - val_loss: 0.7000 - val_mean_absolute_error: 0.7000\n",
      "Epoch 45/50\n",
      "571/571 [==============================] - 11s 19ms/step - loss: 0.0815 - mean_absolute_error: 0.0815 - val_loss: 0.7177 - val_mean_absolute_error: 0.7177\n",
      "Epoch 46/50\n",
      "571/571 [==============================] - 11s 19ms/step - loss: 0.0812 - mean_absolute_error: 0.0812 - val_loss: 0.7155 - val_mean_absolute_error: 0.7155\n",
      "Epoch 47/50\n",
      "571/571 [==============================] - 11s 20ms/step - loss: 0.0784 - mean_absolute_error: 0.0784 - val_loss: 0.7282 - val_mean_absolute_error: 0.7282\n",
      "Epoch 48/50\n",
      "571/571 [==============================] - 11s 19ms/step - loss: 0.0833 - mean_absolute_error: 0.0833 - val_loss: 0.7053 - val_mean_absolute_error: 0.7053\n",
      "Epoch 49/50\n",
      "571/571 [==============================] - 11s 19ms/step - loss: 0.0804 - mean_absolute_error: 0.0804 - val_loss: 0.7479 - val_mean_absolute_error: 0.7479\n",
      "Epoch 50/50\n",
      "571/571 [==============================] - 11s 19ms/step - loss: 0.0837 - mean_absolute_error: 0.0837 - val_loss: 0.7100 - val_mean_absolute_error: 0.7100\n"
     ]
    }
   ],
   "source": [
    "# fit the model\n",
    "history = model.fit(train_generator, validation_data=val_generator, epochs=50, shuffle=False, verbose=1)\n",
    "model.save('star_pro_weights_5.1.h5')"
   ]
  },
  {
   "cell_type": "code",
   "execution_count": 18,
   "id": "aed3270b",
   "metadata": {},
   "outputs": [
    {
     "name": "stderr",
     "output_type": "stream",
     "text": [
      "C:\\Users\\jaisri\\AppData\\Local\\Temp\\ipykernel_10360\\267665090.py:1: UserWarning: `Model.evaluate_generator` is deprecated and will be removed in a future version. Please use `Model.evaluate`, which supports generators.\n",
      "  model.evaluate_generator(test_generator,verbose=0)\n"
     ]
    },
    {
     "data": {
      "text/plain": [
       "[0.3193906247615814, 0.3193906247615814]"
      ]
     },
     "execution_count": 18,
     "metadata": {},
     "output_type": "execute_result"
    }
   ],
   "source": [
    "model.evaluate_generator(test_generator,verbose=0)"
   ]
  },
  {
   "cell_type": "code",
   "execution_count": null,
   "id": "98ac7473",
   "metadata": {},
   "outputs": [
    {
     "name": "stderr",
     "output_type": "stream",
     "text": [
      "C:\\Users\\jaisri\\AppData\\Local\\Temp\\ipykernel_4728\\267665090.py:1: UserWarning: `Model.evaluate_generator` is deprecated and will be removed in a future version. Please use `Model.evaluate`, which supports generators.\n",
      "  model.evaluate_generator(test_generator,verbose=0)\n"
     ]
    },
    {
     "data": {
      "text/plain": [
       "[0.26808178424835205, 0.26808178424835205]"
      ]
     },
     "metadata": {},
     "output_type": "display_data"
    }
   ],
   "source": [
    "model.evaluate_generator(test_generator,verbose=0)"
   ]
  },
  {
   "cell_type": "code",
   "execution_count": 21,
   "id": "7e621350",
   "metadata": {},
   "outputs": [
    {
     "data": {
      "image/png": "[encoded data removed]",
      "text/plain": [
       "<Figure size 640x480 with 1 Axes>"
      ]
     },
     "metadata": {},
     "output_type": "display_data"
    }
   ],
   "source": [
    "plt.plot(history.history['loss'], label='Training loss')\n",
    "plt.plot(history.history['val_loss'], label='Validation loss')\n",
    "plt.legend()\n",
    "plt.savefig('clo1_43.jpeg')"
   ]
  },
  {
   "cell_type": "code",
   "execution_count": 19,
   "id": "af6eeb17",
   "metadata": {},
   "outputs": [],
   "source": [
    "from tensorflow.keras.models import load_model\n",
    "model_1=load_model('star_pro_weights_5.1.h5', compile=False)"
   ]
  },
  {
   "cell_type": "code",
   "execution_count": 134,
   "id": "5755f03c",
   "metadata": {},
   "outputs": [],
   "source": [
    "# testing prediction"
   ]
  },
  {
   "cell_type": "code",
   "execution_count": 4,
   "id": "ee106ef3",
   "metadata": {},
   "outputs": [
    {
     "data": {
      "text/plain": [
       "42"
      ]
     },
     "execution_count": 4,
     "metadata": {},
     "output_type": "execute_result"
    }
   ],
   "source": [
    "trainX.shape[1]"
   ]
  },
  {
   "cell_type": "code",
   "execution_count": 20,
   "id": "027350cd",
   "metadata": {},
   "outputs": [
    {
     "name": "stdout",
     "output_type": "stream",
     "text": [
      "1/1 [==============================] - 0s 312ms/step\n",
      "1/1 [==============================] - 0s 29ms/step\n"
     ]
    }
   ],
   "source": [
    "pre_df=[]\n",
    "tru_df=[]\n",
    "\n",
    "for i in range(len(test_generator)):\n",
    "    tt=model_1.predict(test_generator[i][0])\n",
    "    prediction_copies = np.repeat(tt, trainX.shape[1], axis=-1)\n",
    "    y_pred_future = scaler.inverse_transform(prediction_copies)[:,0]\n",
    "    pre_df.extend(y_pred_future)\n",
    "    \n",
    "    ttt=test_generator[i][1]\n",
    "    true_copies = np.repeat(ttt, trainX.shape[1], axis=-1)\n",
    "    y_true_future = scaler.inverse_transform(true_copies)[:,0]\n",
    "    tru_df.extend(y_true_future)"
   ]
  },
  {
   "cell_type": "code",
   "execution_count": 60,
   "metadata": {},
   "outputs": [
    {
     "data": {
      "text/plain": [
       "(9, 9)"
      ]
     },
     "execution_count": 60,
     "metadata": {},
     "output_type": "execute_result"
    }
   ],
   "source": [
    "len(pre_df),len(tru_df)"
   ]
  },
  {
   "cell_type": "code",
   "execution_count": 24,
   "metadata": {},
   "outputs": [
    {
     "data": {
      "image/png": "[encoded data removed]",
      "text/plain": [
       "<Figure size 640x480 with 1 Axes>"
      ]
     },
     "metadata": {},
     "output_type": "display_data"
    }
   ],
   "source": [
    "plt.plot(pre_df, label='true')\n",
    "plt.plot(tru_df, label='preduct')\n",
    "plt.xlabel('X-axis')\n",
    "plt.ylabel('Y-axis')\n",
    "plt.title('Raw vs. Smooth Signal')\n",
    "plt.legend()\n",
    "plt.show()"
   ]
  },
  {
   "cell_type": "code",
   "execution_count": 21,
   "id": "faca83ef",
   "metadata": {},
   "outputs": [
    {
     "data": {
      "text/plain": [
       "5.897137143608934"
      ]
     },
     "execution_count": 21,
     "metadata": {},
     "output_type": "execute_result"
    }
   ],
   "source": [
    "from sklearn.metrics import mean_squared_error\n",
    "from math import sqrt\n",
    "rms = sqrt(mean_squared_error(pre_df, tru_df))\n",
    "rms"
   ]
  },
  {
   "cell_type": "code",
   "execution_count": null,
   "id": "80bf0b8c",
   "metadata": {},
   "outputs": [
    {
     "data": {
      "text/plain": [
       "4.834255116430775"
      ]
     },
     "metadata": {},
     "output_type": "display_data"
    }
   ],
   "source": [
    "from sklearn.metrics import mean_squared_error\n",
    "from math import sqrt\n",
    "rms = sqrt(mean_squared_error(pre_df, tru_df))\n",
    "rms"
   ]
  },
  {
   "cell_type": "code",
   "execution_count": null,
   "id": "c9ac7c4e",
   "metadata": {},
   "outputs": [
    {
     "data": {
      "text/plain": [
       "5.596468798260085"
      ]
     },
     "metadata": {},
     "output_type": "display_data"
    }
   ],
   "source": [
    "from sklearn.metrics import mean_squared_error\n",
    "from math import sqrt\n",
    "rms = sqrt(mean_squared_error(pre_df, tru_df))\n",
    "rms"
   ]
  },
  {
   "cell_type": "code",
   "execution_count": 26,
   "id": "13435322",
   "metadata": {},
   "outputs": [
    {
     "name": "stdout",
     "output_type": "stream",
     "text": [
      "1/1 [==============================] - 0s 404ms/step\n",
      "1/1 [==============================] - 0s 90ms/step\n",
      "rms = 4.834255116430775\n"
     ]
    },
    {
     "data": {
      "image/png": "[encoded data removed]",
      "text/plain": [
       "<Figure size 640x480 with 1 Axes>"
      ]
     },
     "metadata": {},
     "output_type": "display_data"
    }
   ],
   "source": [
    "from tensorflow.keras.models import load_model\n",
    "model_2=load_model('star_pro_weights_4.1.h5', compile=False)\n",
    "\n",
    "pre_df=[]\n",
    "tru_df=[]\n",
    "\n",
    "for i in range(len(test_generator)):\n",
    "    tt=model_2.predict(test_generator[i][0])\n",
    "    prediction_copies = np.repeat(tt, trainX.shape[1], axis=-1)\n",
    "    y_pred_future = scaler.inverse_transform(prediction_copies)[:,0]\n",
    "    pre_df.extend(y_pred_future)\n",
    "    \n",
    "    ttt=test_generator[i][1]\n",
    "    true_copies = np.repeat(ttt, trainX.shape[1], axis=-1)\n",
    "    y_true_future = scaler.inverse_transform(true_copies)[:,0]\n",
    "    tru_df.extend(y_true_future)\n",
    "\n",
    "from sklearn.metrics import mean_squared_error\n",
    "from math import sqrt\n",
    "print('rms =', sqrt(mean_squared_error(pre_df, tru_df)))\n",
    "\n",
    "plt.plot(pre_df, label='true')\n",
    "plt.plot(tru_df, label='preduct')\n",
    "plt.xlabel('X-axis')\n",
    "plt.ylabel('Y-axis')\n",
    "plt.title('Raw vs. Smooth Signal')\n",
    "plt.legend()\n",
    "plt.show()"
   ]
  },
  {
   "cell_type": "code",
   "execution_count": null,
   "id": "5a567030",
   "metadata": {},
   "outputs": [],
   "source": []
  }
 ],
 "metadata": {
  "kernelspec": {
   "display_name": "Python 3",
   "language": "python",
   "name": "python3"
  },
  "language_info": {
   "codemirror_mode": {
    "name": "ipython",
    "version": 3
   },
   "file_extension": ".py",
   "mimetype": "text/x-python",
   "name": "python",
   "nbconvert_exporter": "python",
   "pygments_lexer": "ipython3",
   "version": "3.10.11"
  }
 },
 "nbformat": 4,
 "nbformat_minor": 5
}
